{
 "cells": [
  {
   "cell_type": "markdown",
   "metadata": {},
   "source": [
    "# Machine Leaning Exercise 1\n",
    "From Week 2 of Coursera course, Machine Learning by Andrew Ng: https://www.coursera.org/learn/machine-learning/.\n",
    "\n",
    "Eric Nam, https://github.com/eric-nam, 2020"
   ]
  },
  {
   "cell_type": "markdown",
   "metadata": {},
   "source": [
    "# Make an 5x5 identity matrix\n",
    "First, it is just a warm-up to get familiar with the environment. Just create a 5x5 identity matrix."
   ]
  },
  {
   "cell_type": "markdown",
   "metadata": {},
   "source": [
    "## Most Julia idiomatic way using LinearAlgebra Package"
   ]
  },
  {
   "cell_type": "code",
   "execution_count": null,
   "metadata": {},
   "outputs": [],
   "source": [
    "using LinearAlgebra\n",
    "Matrix{Int}(I, 5, 5)"
   ]
  },
  {
   "cell_type": "markdown",
   "metadata": {},
   "source": [
    "# Linear Regression\n",
    "Probably the simplest prediction model from data is a linear regression. The exercise provides a data set with one independent variable. The exercise will use gradient descent method to get a solution."
   ]
  },
  {
   "cell_type": "markdown",
   "metadata": {},
   "source": [
    "## Read data from `ex1data1.txt`"
   ]
  },
  {
   "cell_type": "code",
   "execution_count": null,
   "metadata": {},
   "outputs": [],
   "source": [
    "import CSV\n",
    "using DataFrames\n",
    "fpath_csv = \"ex1data1.txt\"\n",
    "df_data1 = CSV.File(fpath_csv, header=false) |> DataFrame!;"
   ]
  },
  {
   "cell_type": "markdown",
   "metadata": {},
   "source": [
    "# Plot the data\n",
    "Importing `Plots` for the first time will take a while. On my machine, it takes more than 20 seconds, sometimes one minute."
   ]
  },
  {
   "cell_type": "code",
   "execution_count": null,
   "metadata": {},
   "outputs": [],
   "source": [
    "using Plots\n",
    "xlabel = \"Profit in \\$10,000s\"\n",
    "ylabel = \"Population of City in 10,000s\"\n",
    "scatter(df_data1.Column1, df_data1.Column2, xlabel=xlabel, ylabel=ylabel, legend=false)"
   ]
  },
  {
   "cell_type": "markdown",
   "metadata": {},
   "source": [
    "## Define the cost function\n",
    "The cost (or penalty) function in the exercise is the sum of the error squares divided by the number of samples."
   ]
  },
  {
   "cell_type": "code",
   "execution_count": null,
   "metadata": {},
   "outputs": [],
   "source": [
    "\"\"\"\n",
    "    compute_cost(x, y, theta)\n",
    "\n",
    "Compute the cost, sum of the squares of the errors.\n",
    "\n",
    "# Arguments\n",
    "- `x::Array{Number,2}` : the independent variable matrix. The rows are examples, the columns features.\n",
    "- `y::Array{Number,1}` : the dependent vector.\n",
    "- `theta::Array{Number,1}` : the parameter vector (``\\\\theta_0 + \\\\theta_1 x_i``)\n",
    "\n",
    "# Return\n",
    "`::Number` : Cost value\n",
    "\"\"\"\n",
    "function compute_cost(x, y, theta)\n",
    "    x1 = hcat(ones(size(x)[1]), x)\n",
    "    residue = x1 * theta - y\n",
    "    (residue' * residue * 0.5 / size(x)[1])[1]\n",
    "end"
   ]
  },
  {
   "cell_type": "markdown",
   "metadata": {},
   "source": [
    "### Two examples of the cost calculation \n",
    "Two cells below tests the cost function."
   ]
  },
  {
   "cell_type": "code",
   "execution_count": null,
   "metadata": {},
   "outputs": [],
   "source": [
    "theta = [0.; 0.]\n",
    "x = reshape(df_data1.Column1, size(df_data1.Column1)[1], :)\n",
    "y = df_data1.Column2\n",
    "compute_cost(x, y, theta)"
   ]
  },
  {
   "cell_type": "code",
   "execution_count": null,
   "metadata": {},
   "outputs": [],
   "source": [
    "theta = [-1.; 2.]\n",
    "compute_cost(x, y, theta)"
   ]
  },
  {
   "cell_type": "markdown",
   "metadata": {},
   "source": [
    "## Define a cost gradient function\n",
    "Now define a gradient of the cost function, which will be used the gradient descent method."
   ]
  },
  {
   "cell_type": "code",
   "execution_count": null,
   "metadata": {},
   "outputs": [],
   "source": [
    "\"\"\"\n",
    "    cost_gradient(x, y, theta)\n",
    "\n",
    "Compute the gradient of the cost function\n",
    "\n",
    "# Arguments\n",
    "- `x::Array{Number,2}` : the independent variables\n",
    "- `y::Array{Number,1}` : the dependent variables\n",
    "- `theta::Array{Number,1}` : the parameter vector (``\\\\theta_0 + \\\\theta_1 x_i``)\n",
    "\n",
    "# Return\n",
    "`::Array{Number, 1}` : Gradient of the cost function  \n",
    "\"\"\"\n",
    "function cost_gradient(x, y, theta)\n",
    "    x1 = hcat(ones(size(x)[1]), x)\n",
    "    reshape(x1' * (x1 * theta - y), :)\n",
    "end"
   ]
  },
  {
   "cell_type": "markdown",
   "metadata": {},
   "source": [
    "### An exmaple of the cost gradient"
   ]
  },
  {
   "cell_type": "code",
   "execution_count": null,
   "metadata": {},
   "outputs": [],
   "source": [
    "cost_gradient(x, y, theta)"
   ]
  },
  {
   "cell_type": "markdown",
   "metadata": {},
   "source": [
    "## Define the gradient descent function"
   ]
  },
  {
   "cell_type": "code",
   "execution_count": null,
   "metadata": {},
   "outputs": [],
   "source": [
    "function gradient_descent(x, y, theta, alpha, num_iters)\n",
    "    n = size(x)[1]\n",
    "    for i in 1:num_iters\n",
    "        theta -= cost_gradient(x, y, theta) * alpha ./ n\n",
    "    end\n",
    "    theta\n",
    "end"
   ]
  },
  {
   "cell_type": "markdown",
   "metadata": {},
   "source": [
    "## Calculate the minimum using the gradient descent method\n",
    "This gradient descent simply iterates the given number of time, and the step size is fixed."
   ]
  },
  {
   "cell_type": "code",
   "execution_count": null,
   "metadata": {},
   "outputs": [],
   "source": [
    "num_iters = 1500\n",
    "alpha = 0.01"
   ]
  },
  {
   "cell_type": "code",
   "execution_count": null,
   "metadata": {},
   "outputs": [],
   "source": [
    "theta_init = [0.; 0.]  # Initial guess\n",
    "theta = gradient_descent(x, y, theta_init, alpha, num_iters)"
   ]
  },
  {
   "cell_type": "markdown",
   "metadata": {},
   "source": [
    "# Two predictions using the solutions above"
   ]
  },
  {
   "cell_type": "code",
   "execution_count": null,
   "metadata": {},
   "outputs": [],
   "source": [
    "predict1 = [1 3.5] * theta"
   ]
  },
  {
   "cell_type": "code",
   "execution_count": null,
   "metadata": {},
   "outputs": [],
   "source": [
    "predice2 = [1 7] * theta"
   ]
  },
  {
   "cell_type": "markdown",
   "metadata": {},
   "source": [
    "# Plot the landscape of the cost\n",
    "Plot the whole solution space of the cost function to get a sense of the gradient descent method."
   ]
  },
  {
   "cell_type": "markdown",
   "metadata": {},
   "source": [
    "### Create a grid of $\\theta$s  and calculate costs "
   ]
  },
  {
   "cell_type": "code",
   "execution_count": null,
   "metadata": {},
   "outputs": [],
   "source": [
    "theta0 = range(-10, stop=10, length=50)\n",
    "theta1 = range(-1, stop=4, length=50)\n",
    "thetas = Iterators.product(theta0, theta1)\n",
    "\n",
    "cost_space = map(t -> compute_cost(x, y, collect(t)), thetas);"
   ]
  },
  {
   "cell_type": "markdown",
   "metadata": {},
   "source": [
    "## Plot the surface of the cost"
   ]
  },
  {
   "cell_type": "code",
   "execution_count": null,
   "metadata": {},
   "outputs": [],
   "source": [
    "using LaTeXStrings\n",
    "pyplot()\n",
    "plot(theta0, theta1, cost_space', st=:surface, camera=(-40, 40),\n",
    "     xlabel=L\"\\theta_0\", ylabel=L\"\\theta_1\")"
   ]
  },
  {
   "cell_type": "markdown",
   "metadata": {},
   "source": [
    "## Plot a contour and the solution from above\n",
    "This is the same cost function but in a contour plot. The dot shows the solution obtained by the gradient descent above."
   ]
  },
  {
   "cell_type": "code",
   "execution_count": null,
   "metadata": {},
   "outputs": [],
   "source": [
    "plot(theta0, theta1, cost_space', st=:contour,\n",
    "     xlabel=L\"\\theta_0\", ylabel=L\"\\theta_1\")\n",
    "scatter!((theta[1], theta[2]), legend=false)"
   ]
  },
  {
   "cell_type": "markdown",
   "metadata": {},
   "source": [
    "# Regression with multi-variables\n",
    "The functions above for the single variable are all defined for multiple variables in the matrix forms, so there is no need to define separate functions for multiple variables."
   ]
  },
  {
   "cell_type": "markdown",
   "metadata": {},
   "source": [
    "## Feature normalizing"
   ]
  },
  {
   "cell_type": "code",
   "execution_count": null,
   "metadata": {},
   "outputs": [],
   "source": [
    "# load data\n",
    "fpath_csv = \"ex1data2.txt\"\n",
    "df_data2 = CSV.File(fpath_csv, header=false) |> DataFrame!;"
   ]
  },
  {
   "cell_type": "code",
   "execution_count": null,
   "metadata": {},
   "outputs": [],
   "source": [
    "# x = convert(Matrix, df_data2[:, 1:2])\n",
    "x = convert(Matrix, df_data2[:, 1:2])\n",
    "y = df_data2[:, 3];"
   ]
  },
  {
   "cell_type": "markdown",
   "metadata": {},
   "source": [
    "## Define a cost function for the multi-variable problem"
   ]
  },
  {
   "cell_type": "code",
   "execution_count": null,
   "metadata": {},
   "outputs": [],
   "source": [
    "theta = zeros(3)\n",
    "compute_cost(x, y, theta)"
   ]
  },
  {
   "cell_type": "markdown",
   "metadata": {},
   "source": [
    "## Define a normalizing function"
   ]
  },
  {
   "cell_type": "code",
   "execution_count": null,
   "metadata": {},
   "outputs": [],
   "source": [
    "# This time functions for Julia are used for mean and standard deviations\n",
    "using Statistics\n",
    "\n",
    "\"\"\"\n",
    "    feature_normalize(x)\n",
    "\n",
    "Normalize features \n",
    "# Argument\n",
    "- `x::Array{Number, 2}` : the independent variable matrix. The rows are examples, the columns features.\n",
    "\n",
    "# Returns\n",
    "- `::Array{Number, 2}`: Normalized independent variables\n",
    "- `::Array{Number, 2}`: means of the examples\n",
    "- `::Array{Number, 2}`: standard deviations of the examples\n",
    "\"\"\"\n",
    "function feature_normalize(x)\n",
    "    mu_x = [mean(col) for col = eachcol(x)]\n",
    "    std_x = [std(col) for col = eachcol(x)]\n",
    "    x_norm = (x' .- mu_x) ./ std_x\n",
    "    x_norm', mu_x, std_x\n",
    "end"
   ]
  },
  {
   "cell_type": "code",
   "execution_count": null,
   "metadata": {},
   "outputs": [],
   "source": [
    "x_norm, mu_x, std_x = feature_normalize(x);"
   ]
  },
  {
   "cell_type": "markdown",
   "metadata": {},
   "source": [
    "## Solve using the gradient descent"
   ]
  },
  {
   "cell_type": "code",
   "execution_count": null,
   "metadata": {},
   "outputs": [],
   "source": [
    "alpha = 0.1\n",
    "num_iters = 400\n",
    "theta_init = zeros(3);"
   ]
  },
  {
   "cell_type": "code",
   "execution_count": null,
   "metadata": {},
   "outputs": [],
   "source": [
    "theta = gradient_descent(x_norm, y, theta_init, alpha, num_iters)"
   ]
  },
  {
   "cell_type": "markdown",
   "metadata": {},
   "source": [
    "## Try to predict with the theta above"
   ]
  },
  {
   "cell_type": "code",
   "execution_count": null,
   "metadata": {},
   "outputs": [],
   "source": [
    "x1 = [1650.; 3.]\n",
    "theta' * vcat(1, (x1 .- mu_x) ./ std_x )"
   ]
  },
  {
   "cell_type": "markdown",
   "metadata": {},
   "source": [
    "## Normal Equation to solve the linear regression"
   ]
  },
  {
   "cell_type": "code",
   "execution_count": null,
   "metadata": {},
   "outputs": [],
   "source": [
    "\"\"\"\n",
    "   normal_eqn(x, y)\n",
    "\n",
    "Closed form of the linear regression to calculate the linear regression.\n",
    "\n",
    "# Arguments\n",
    "- `x::Array{Number,2}` : the independent variables\n",
    "- `y::Array{Number,1}` : the dependent variables\n",
    "\n",
    "# Return\n",
    "`::Array{Number, 1}` : coefficients of the linear regression\n",
    "\"\"\"\n",
    "function normal_eqn(x, y)\n",
    "    n = size(x)[1]\n",
    "    x1 = hcat(ones(n, 1), x)\n",
    "    (x1' * x1) \\ x1' * y \n",
    "end"
   ]
  },
  {
   "cell_type": "code",
   "execution_count": null,
   "metadata": {},
   "outputs": [],
   "source": [
    "theta_norm = normal_eqn(x, y)"
   ]
  },
  {
   "cell_type": "code",
   "execution_count": null,
   "metadata": {},
   "outputs": [],
   "source": [
    "theta_norm' * vcat(1., x1)"
   ]
  },
  {
   "cell_type": "code",
   "execution_count": null,
   "metadata": {},
   "outputs": [],
   "source": []
  }
 ],
 "metadata": {
  "kernelspec": {
   "display_name": "Julia 1.4.2",
   "language": "julia",
   "name": "julia-1.4"
  },
  "language_info": {
   "file_extension": ".jl",
   "mimetype": "application/julia",
   "name": "julia",
   "version": "1.4.2"
  }
 },
 "nbformat": 4,
 "nbformat_minor": 4
}
