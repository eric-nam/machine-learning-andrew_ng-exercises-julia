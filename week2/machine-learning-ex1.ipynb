{
 "cells": [
  {
   "cell_type": "markdown",
   "metadata": {},
   "source": [
    "# Machine Leaning Exercise 1\n",
    "From Week 2 of Coursera course, Machine Learning by Andrew Ng: https://www.coursera.org/learn/machine-learning/.\n",
    "\n",
    "Eric Nam, https://github.com/eric-nam, 2020"
   ]
  },
  {
   "cell_type": "markdown",
   "metadata": {},
   "source": [
    "# Make an 5x5 identity matrix\n",
    "First, it is just a warm-up to get familiar with the environment. Just create a 5x5 identity matrix."
   ]
  },
  {
   "cell_type": "markdown",
   "metadata": {},
   "source": [
    "## Most Julia idiomatic way using LinearAlgebra Package"
   ]
  },
  {
   "cell_type": "code",
   "execution_count": null,
   "metadata": {},
   "outputs": [],
   "source": [
    "using LinearAlgebra\n",
    "Matrix{Int}(I, 5, 5)"
   ]
  },
  {
   "cell_type": "markdown",
   "metadata": {},
   "source": [
    "# Linear Regression\n",
    "Probably the simplest prediction model from data is a linear regression. The exercise provides a data set with one independent variable. The exercise will use gradient descent method to get a solution."
   ]
  },
  {
   "cell_type": "markdown",
   "metadata": {},
   "source": [
    "## Read data from `ex1data1.txt`"
   ]
  },
  {
   "cell_type": "code",
   "execution_count": null,
   "metadata": {},
   "outputs": [],
   "source": [
    "import CSV\n",
    "using DataFrames\n",
    "fpath_csv = \"ex1data1.txt\"\n",
    "df_data1 = CSV.File(fpath_csv, header=false) |> DataFrame!"
   ]
  },
  {
   "cell_type": "markdown",
   "metadata": {},
   "source": [
    "# Plot the data\n",
    "Importing `Plots` for the first time will take a while. On my machine, it takes more than 20 seconds, sometimes one minute."
   ]
  },
  {
   "cell_type": "code",
   "execution_count": null,
   "metadata": {},
   "outputs": [],
   "source": [
    "using Plots\n",
    "xlabel = \"Profit in \\$10,000s\"\n",
    "ylabel = \"Population of City in 10,000s\"\n",
    "x = df_data1.Column1\n",
    "y = df_data1.Column2\n",
    "scatter(x, y, xlabel=xlabel, ylabel=ylabel, legend=false)"
   ]
  },
  {
   "cell_type": "markdown",
   "metadata": {},
   "source": [
    "## Define the cost function\n",
    "The cost (or penalty) function in the exercise is the sum of the error squares divided by the number of samples."
   ]
  },
  {
   "cell_type": "code",
   "execution_count": null,
   "metadata": {},
   "outputs": [],
   "source": [
    "\"\"\"\n",
    "    cost(x, y, theta)\n",
    "\n",
    "Compute the cost, sum of the squares of the errors.\n",
    "\n",
    "# Arguments\n",
    "- `x::Array` : the independent variables\n",
    "- `y::Array` : the dependent variables\n",
    "- `theta::Array` : the parameter vector (``\\\\theta_0 + \\\\theta_1 x_i``)\n",
    "\"\"\"\n",
    "function cost(x, y, theta)\n",
    "    x1 = hcat(ones(size(x)), x)\n",
    "    sum((x1 * theta .- y) .^ 2) * 0.5 / size(x)[1] \n",
    "end"
   ]
  },
  {
   "cell_type": "markdown",
   "metadata": {},
   "source": [
    "### Two examples of the cost calculation \n",
    "Two cells below tests the cost function."
   ]
  },
  {
   "cell_type": "code",
   "execution_count": null,
   "metadata": {},
   "outputs": [],
   "source": [
    "theta = [0, 0]\n",
    "cost(x, y, theta)"
   ]
  },
  {
   "cell_type": "code",
   "execution_count": null,
   "metadata": {},
   "outputs": [],
   "source": [
    "theta = [-1, 2]\n",
    "cost(x, y, theta)"
   ]
  },
  {
   "cell_type": "markdown",
   "metadata": {},
   "source": [
    "## Define a cost gradient function\n",
    "Now define a gradient of the cost function, which will be used the gradient descent method."
   ]
  },
  {
   "cell_type": "code",
   "execution_count": null,
   "metadata": {},
   "outputs": [],
   "source": [
    "\"\"\"\n",
    "    cost(x, y, theta)\n",
    "\n",
    "Compute the gradient of the cost function\n",
    "\n",
    "# Arguments\n",
    "- `x::Array` : the independent variables\n",
    "- `y::Array` : the dependent variables\n",
    "- `theta::Array` : the parameter vector (``\\\\theta_0 + \\\\theta_1 x_i``)\n",
    "\"\"\"\n",
    "function cost_gradient(x, y, theta)\n",
    "    x1 = hcat(ones(size(x)), x)\n",
    "    x1' * (x1 * theta - y)\n",
    "end"
   ]
  },
  {
   "cell_type": "markdown",
   "metadata": {},
   "source": [
    "### An exmaple of the cost gradient"
   ]
  },
  {
   "cell_type": "code",
   "execution_count": null,
   "metadata": {},
   "outputs": [],
   "source": [
    "cost_gradient(x, y, theta)"
   ]
  },
  {
   "cell_type": "markdown",
   "metadata": {},
   "source": [
    "## Calculate the minimum using the gradient descent method\n",
    "This gradient descent simply iterates the given number of time, and the step size is fixed."
   ]
  },
  {
   "cell_type": "code",
   "execution_count": null,
   "metadata": {},
   "outputs": [],
   "source": [
    "iterations = 1500\n",
    "alpha = 0.01"
   ]
  },
  {
   "cell_type": "code",
   "execution_count": null,
   "metadata": {},
   "outputs": [],
   "source": [
    "theta = [0, 0]  # Initial guess\n",
    "n = size(x)[1]\n",
    "for i in 1:iterations\n",
    "    theta -= cost_gradient(x, y, theta) * alpha ./ n\n",
    "end\n",
    "\n",
    "theta"
   ]
  },
  {
   "cell_type": "markdown",
   "metadata": {},
   "source": [
    "# Two predictions using the solutions above"
   ]
  },
  {
   "cell_type": "code",
   "execution_count": null,
   "metadata": {},
   "outputs": [],
   "source": [
    "predict1 = [1, 3.5]' * theta"
   ]
  },
  {
   "cell_type": "code",
   "execution_count": null,
   "metadata": {},
   "outputs": [],
   "source": [
    "predice2 = [1, 7]' * theta"
   ]
  },
  {
   "cell_type": "markdown",
   "metadata": {},
   "source": [
    "# Plot the landscape of the cost\n",
    "Plot the whole solution space of the cost function to get a sense of the gradient descent method."
   ]
  },
  {
   "cell_type": "markdown",
   "metadata": {},
   "source": [
    "### Create a grid of $\\theta$s  and calculate costs "
   ]
  },
  {
   "cell_type": "code",
   "execution_count": null,
   "metadata": {},
   "outputs": [],
   "source": [
    "theta0 = range(-10, stop=10, length=50)\n",
    "theta1 = range(-1, stop=4, length=50)\n",
    "thetas = Iterators.product(theta0, theta1)\n",
    "\n",
    "cost_space = map(t -> cost(x, y, collect(t)), thetas)"
   ]
  },
  {
   "cell_type": "markdown",
   "metadata": {},
   "source": [
    "## Plot the surface of the cost"
   ]
  },
  {
   "cell_type": "code",
   "execution_count": null,
   "metadata": {},
   "outputs": [],
   "source": [
    "using LaTeXStrings\n",
    "pyplot()\n",
    "plot(theta0, theta1, cost_space', st=:surface, camera=(-40, 40),\n",
    "     xlabel=L\"\\theta_0\", ylabel=L\"\\theta_1\")"
   ]
  },
  {
   "cell_type": "markdown",
   "metadata": {},
   "source": [
    "## Plot a contour and the solution from above"
   ]
  },
  {
   "cell_type": "code",
   "execution_count": null,
   "metadata": {},
   "outputs": [],
   "source": [
    "plot(theta0, theta1, cost_space', st=:contour,\n",
    "     xlabel=L\"\\theta_0\", ylabel=L\"\\theta_1\")\n",
    "scatter!((theta[1], theta[2]), legend=false)"
   ]
  },
  {
   "cell_type": "code",
   "execution_count": null,
   "metadata": {},
   "outputs": [],
   "source": []
  }
 ],
 "metadata": {
  "kernelspec": {
   "display_name": "Julia 1.4.2",
   "language": "julia",
   "name": "julia-1.4"
  },
  "language_info": {
   "file_extension": ".jl",
   "mimetype": "application/julia",
   "name": "julia",
   "version": "1.4.2"
  }
 },
 "nbformat": 4,
 "nbformat_minor": 4
}
